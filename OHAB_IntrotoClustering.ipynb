{
  "nbformat": 4,
  "nbformat_minor": 0,
  "metadata": {
    "kernelspec": {
      "display_name": "Python 3",
      "language": "python",
      "name": "metis"
    },
    "language_info": {
      "codemirror_mode": {
        "name": "ipython",
        "version": 3
      },
      "file_extension": ".py",
      "mimetype": "text/x-python",
      "name": "python",
      "nbconvert_exporter": "python",
      "pygments_lexer": "ipython3",
      "version": "3.6.7"
    },
    "colab": {
      "name": "OHAB_IntrotoClustering.ipynb",
      "provenance": [],
      "collapsed_sections": [
        "aS5m2cOP1Zsy",
        "uBTYrN0D1Zs_",
        "RacvR-G61ZtD",
        "5xwC7Ta51ZtW",
        "C_Nu5kXT1ZtZ",
        "A8xR3KN-1Ztb",
        "9N3YQ5zS1Ztb",
        "jaJh8sb51Zte",
        "lwKwSYEq1Zth",
        "wL_R9CGQ1Ztk",
        "6rWsARUX1Ztq"
      ],
      "include_colab_link": true
    }
  },
  "cells": [
    {
      "cell_type": "markdown",
      "metadata": {
        "id": "view-in-github",
        "colab_type": "text"
      },
      "source": [
        "<a href=\"https://colab.research.google.com/github/wwillis125/Image-Classification/blob/master/OHAB_IntrotoClustering.ipynb\" target=\"_parent\"><img src=\"https://colab.research.google.com/assets/colab-badge.svg\" alt=\"Open In Colab\"/></a>"
      ]
    },
    {
      "cell_type": "markdown",
      "metadata": {
        "id": "3DFLABjDMWbD",
        "colab_type": "text"
      },
      "source": [
        "---\n",
        "<center>\n",
        "<img src=\"https://drive.google.com/uc?export=view&id=1i1_Glu8nhZPHh9S5PSq16JIBmligAA_x\"  alt=\"drawing\" height=\"100\"/>\n",
        "<br><br>\n",
        "</center>\n",
        "\n",
        "# ONE HOUR AT BOOTCAMP: Intro to Clustering\n",
        "### Instructor: [Roberto Reif](https://www.linkedin.com/in/robertoreif/)\n",
        "---\n",
        "\n"
      ]
    },
    {
      "cell_type": "markdown",
      "metadata": {
        "id": "SOhaWoNt1Zse",
        "colab_type": "text"
      },
      "source": [
        "# K-Means Clustering Algorithm"
      ]
    },
    {
      "cell_type": "markdown",
      "metadata": {
        "id": "JUidYbiy1Zse",
        "colab_type": "text"
      },
      "source": [
        "__Purpose:__\n",
        "The purpose of this lecture is to learn an unsupervised learning clustering algorithm, known as **K-means**. We will learn how to run this algorithm using sklearn, and apply it to cluster colors in an image.   \n",
        "\n",
        "__At the end of this lecture you will be able to:__\n",
        "> 1. Understan what **K-means** is and how it works\n",
        "> 2. Run a K-means algorithm in Python"
      ]
    },
    {
      "cell_type": "markdown",
      "metadata": {
        "id": "kZnz5D1F1Zsf",
        "colab_type": "text"
      },
      "source": [
        "### K-Means Overview\n",
        "\n",
        "**K-means** is one of the most basic clustering algorithms.  It relies on finding cluster centers to group data points based on minimizing the sum of squared errors between each datapoint and its cluster center.  "
      ]
    },
    {
      "cell_type": "code",
      "metadata": {
        "id": "hc3F4TY21Zsg",
        "colab_type": "code",
        "colab": {}
      },
      "source": [
        "#######################\n",
        "#       imports       #\n",
        "#######################\n",
        "import pandas as pd\n",
        "import numpy as np\n",
        "import matplotlib.pyplot as plt\n",
        "\n",
        "from sklearn.cluster import KMeans\n",
        "from sklearn.datasets import make_blobs\n",
        "from PIL import Image\n",
        "\n",
        "import urllib.request\n",
        "import io"
      ],
      "execution_count": 0,
      "outputs": []
    },
    {
      "cell_type": "code",
      "metadata": {
        "id": "zrtOKetrJkp3",
        "colab_type": "code",
        "colab": {}
      },
      "source": [
        "plt.rcParams['figure.figsize'] = [6,6]\n",
        "plt.rcParams.update({'font.size': 22})"
      ],
      "execution_count": 0,
      "outputs": []
    },
    {
      "cell_type": "markdown",
      "metadata": {
        "id": "wywX3NO_zxRT",
        "colab_type": "text"
      },
      "source": [
        "Below we define a helper function that displays data in 2-dimensions"
      ]
    },
    {
      "cell_type": "code",
      "metadata": {
        "id": "ge9bBqaU1Zsn",
        "colab_type": "code",
        "colab": {}
      },
      "source": [
        "# helper function that allows us to display data in 2 dimensions an highlights the clusters\n",
        "def display_cluster(X,km=[],num_clusters=0):\n",
        "    color = 'brgcmyk'\n",
        "    alpha = 0.5\n",
        "    s = 20\n",
        "    if num_clusters == 0:\n",
        "        plt.scatter(X[:,0],X[:,1],c = color[0],alpha = alpha,s = s)\n",
        "    else:\n",
        "        for i in range(num_clusters):\n",
        "            plt.scatter(X[km.labels_==i,0],X[km.labels_==i,1],c = color[i],alpha = alpha,s=s)\n",
        "            plt.scatter(km.cluster_centers_[i][0],km.cluster_centers_[i][1],c = color[i], marker = 'x', s = 100)"
      ],
      "execution_count": 0,
      "outputs": []
    },
    {
      "cell_type": "markdown",
      "metadata": {
        "id": "BzB5Cgu5Ky3Z",
        "colab_type": "text"
      },
      "source": [
        "Let's briefly explore the `KMeans` documentation, we will use two arguments `n_clusters` and `random_state`.  The other parameters are beyond the scope of this lecture, and you are encouraged to read through them on your own.\n"
      ]
    },
    {
      "cell_type": "code",
      "metadata": {
        "id": "Esj844fZKTJi",
        "colab_type": "code",
        "colab": {}
      },
      "source": [
        "KMeans?"
      ],
      "execution_count": 0,
      "outputs": []
    },
    {
      "cell_type": "markdown",
      "metadata": {
        "id": "oPHhwqwrjika",
        "colab_type": "text"
      },
      "source": [
        "### Cluster starting points\n",
        "Let's start by creating a simple dataset."
      ]
    },
    {
      "cell_type": "code",
      "metadata": {
        "id": "rH0AVjhnjmhR",
        "colab_type": "code",
        "colab": {}
      },
      "source": [
        "angle = np.linspace(0,2*np.pi,20, endpoint = False)\n",
        "X = np.append([np.cos(angle)],[np.sin(angle)],0).transpose()\n",
        "display_cluster(X)"
      ],
      "execution_count": 0,
      "outputs": []
    },
    {
      "cell_type": "markdown",
      "metadata": {
        "id": "Ex6nKo18juT5",
        "colab_type": "text"
      },
      "source": [
        "Let's now group this data into three clusters. We will use two different random states to initialize the algorithm.\n",
        "\n",
        "Clustering with a random state of 42:"
      ]
    },
    {
      "cell_type": "code",
      "metadata": {
        "id": "29M1KyNTjmxD",
        "colab_type": "code",
        "colab": {}
      },
      "source": [
        "k = 3\n",
        "km = KMeans(n_clusters=k,random_state=42) \n",
        "km.fit(X)\n",
        "display_cluster(X,km,k)"
      ],
      "execution_count": 0,
      "outputs": []
    },
    {
      "cell_type": "markdown",
      "metadata": {
        "id": "Xe-bvQ8K1Zsr",
        "colab_type": "text"
      },
      "source": [
        "We clustered with a random state of 42! Why 42? We use 42 because it is [The Answer to the Ultimate Question of Life, the Universe, and Everything](https://en.wikipedia.org/wiki/Phrases_from_The_Hitchhiker%27s_Guide_to_the_Galaxy#Answer_to_the_Ultimate_Question_of_Life,_the_Universe,_and_Everything_(42))"
      ]
    },
    {
      "cell_type": "markdown",
      "metadata": {
        "id": "KKI0J6CYj9gz",
        "colab_type": "text"
      },
      "source": [
        "Clustering with a random state of 41:"
      ]
    },
    {
      "cell_type": "code",
      "metadata": {
        "id": "Bzhq8YUFj_10",
        "colab_type": "code",
        "colab": {}
      },
      "source": [
        "km = KMeans(n_clusters=k,random_state=41) \n",
        "km.fit(X)\n",
        "display_cluster(X,km,k)"
      ],
      "execution_count": 0,
      "outputs": []
    },
    {
      "cell_type": "markdown",
      "metadata": {
        "id": "5flcj7A11Zsx",
        "colab_type": "text"
      },
      "source": [
        "## Question:\n",
        "\n",
        "Why are the clusters different when we run  the K-means with two different random states?\n",
        "\n"
      ]
    },
    {
      "cell_type": "markdown",
      "metadata": {
        "id": "RuSN5IuekKbv",
        "colab_type": "text"
      },
      "source": [
        "*It's because the starting points of the cluster centers have an impact on where the final clusters lie. The starting point of the clusters is controlled by the random state.*"
      ]
    },
    {
      "cell_type": "markdown",
      "metadata": {
        "id": "aS5m2cOP1Zsy",
        "colab_type": "text"
      },
      "source": [
        "### Determining the optimum number of clusters\n",
        "\n",
        "Let's create a fake dataset with 2 features that visually contains a few clusters and we will try to group them."
      ]
    },
    {
      "cell_type": "code",
      "metadata": {
        "id": "1W0ICQKc1Zsy",
        "colab_type": "code",
        "colab": {}
      },
      "source": [
        "n_samples = 1000\n",
        "n_bins = 4  \n",
        "centers = [(-3, -3), (0, 0), (3, 3), (6, 6)]\n",
        "X, y = make_blobs(n_samples=n_samples, n_features=2, cluster_std=1.0,\n",
        "                  centers=centers, shuffle=False, random_state=42)\n",
        "display_cluster(X)\n",
        "pd.DataFrame(X[:5,:],columns = ['x','y'])"
      ],
      "execution_count": 0,
      "outputs": []
    },
    {
      "cell_type": "markdown",
      "metadata": {
        "id": "ZzpYXPbr1Zs1",
        "colab_type": "text"
      },
      "source": [
        "How many clusters do you observe?"
      ]
    },
    {
      "cell_type": "markdown",
      "metadata": {
        "id": "eYyWqONv1Zs1",
        "colab_type": "text"
      },
      "source": [
        "Let's run K-means with seven clusters."
      ]
    },
    {
      "cell_type": "code",
      "metadata": {
        "id": "vmT9aVQW1Zs2",
        "colab_type": "code",
        "colab": {}
      },
      "source": [
        "k = 7\n",
        "km = KMeans(n_clusters=k,random_state=42)\n",
        "km.fit(X)\n",
        "display_cluster(X,km,k)"
      ],
      "execution_count": 0,
      "outputs": []
    },
    {
      "cell_type": "markdown",
      "metadata": {
        "id": "xwYHPD1K1Zsm",
        "colab_type": "text"
      },
      "source": [
        "K-means clustering is one of the most simple clustering algorithms.  One of the limitations is that it depends on the starting point of the clusters, and the number of clusters need to be defined beforehand.\n",
        "\n",
        "Re-run the code above with a different random state!"
      ]
    },
    {
      "cell_type": "markdown",
      "metadata": {
        "id": "dxNLEoRa1Zs5",
        "colab_type": "text"
      },
      "source": [
        "Now let's re-run the algorithm with four clusters."
      ]
    },
    {
      "cell_type": "code",
      "metadata": {
        "id": "pLIs2oAj1Zs5",
        "colab_type": "code",
        "colab": {}
      },
      "source": [
        "k = 4\n",
        "km = KMeans(n_clusters=k,random_state=42)\n",
        "km.fit(X)\n",
        "display_cluster(X,km,k)"
      ],
      "execution_count": 0,
      "outputs": []
    },
    {
      "cell_type": "markdown",
      "metadata": {
        "id": "YYqksOPA1Zs8",
        "colab_type": "text"
      },
      "source": [
        "Should we use four or seven clusters?  "
      ]
    },
    {
      "cell_type": "markdown",
      "metadata": {
        "id": "0kn8iA4h1Zs9",
        "colab_type": "text"
      },
      "source": [
        "- In this case it may be visually obvious that four clusters is better than seven\n",
        "- This is because we can easily view the data in two dimensional space\n",
        "- However, real world data usually has more than two dimensions\n",
        "- A dataset with a higher dimensional space is hard to visualize\n",
        "- A way of solving this is to plot the **inertia** \n",
        "\n",
        "**inertia**: sum of squared distances of samples to their closest cluster center\n",
        "\n",
        "We can extract the inertia of the k-means algorithm using the *inertia_* attribute"
      ]
    },
    {
      "cell_type": "code",
      "metadata": {
        "id": "4Eym9CkG1Zs9",
        "colab_type": "code",
        "colab": {}
      },
      "source": [
        "km.inertia_"
      ],
      "execution_count": 0,
      "outputs": []
    },
    {
      "cell_type": "markdown",
      "metadata": {
        "id": "uBTYrN0D1Zs_",
        "colab_type": "text"
      },
      "source": [
        "### Problem 1:\n",
        "\n",
        "Write code that calculates the inertia for 1 to 10 clusters, and plot the inertia as a function of the number of clusters."
      ]
    },
    {
      "cell_type": "code",
      "metadata": {
        "id": "D4Fsbr-n1Zs_",
        "colab_type": "code",
        "colab": {}
      },
      "source": [
        "### Write code here\n",
        "\n",
        "\n"
      ],
      "execution_count": 0,
      "outputs": []
    },
    {
      "cell_type": "markdown",
      "metadata": {
        "id": "k-iG4ZOc1ZtC",
        "colab_type": "text"
      },
      "source": [
        "Where does the elbow of the curve occur?\n",
        "\n",
        "What do you think the inertia would be if you have the same number of clusters and data points?"
      ]
    },
    {
      "cell_type": "markdown",
      "metadata": {
        "id": "RacvR-G61ZtD",
        "colab_type": "text"
      },
      "source": [
        "### Clustering Colors from an Image"
      ]
    },
    {
      "cell_type": "markdown",
      "metadata": {
        "id": "5Ro4ccbe1ZtD",
        "colab_type": "text"
      },
      "source": [
        "Let's start by loading an image."
      ]
    },
    {
      "cell_type": "code",
      "metadata": {
        "id": "r0DXNeXH4KI7",
        "colab_type": "code",
        "colab": {}
      },
      "source": [
        "# load the image\n",
        "URL = 'https://bit.ly/2W2EMEF'\n",
        "with urllib.request.urlopen(URL) as url:\n",
        "    f = io.BytesIO(url.read())\n",
        "img = np.array(Image.open(f))\n",
        "\n",
        "img = img[150:600,100:750,:] # crops the image\n",
        "\n",
        "plt.imshow(img)\n",
        "plt.axis('off');\n",
        "print(img.shape)"
      ],
      "execution_count": 0,
      "outputs": []
    },
    {
      "cell_type": "markdown",
      "metadata": {
        "id": "-g8YMPCc1ZtI",
        "colab_type": "text"
      },
      "source": [
        "The image above has 450 pixels in height and 650 pixels in width.  Each pixel has 3 values that represent how much red, green and blue it has. Below you can play with different combinations of RGB to create different colors. In total, you can create $256^3 = 16,777,216$ unique colors."
      ]
    },
    {
      "cell_type": "code",
      "metadata": {
        "id": "PlqszkIK1ZtI",
        "colab_type": "code",
        "colab": {}
      },
      "source": [
        "# assign values for the RGB.  Each value should be between 0 and 255\n",
        "R = 35\n",
        "G = 95\n",
        "B = 131\n",
        "\n",
        "# diplays the color\n",
        "plt.imshow([[np.array([R,G,B]).astype('uint8')]])\n",
        "plt.axis('off');"
      ],
      "execution_count": 0,
      "outputs": []
    },
    {
      "cell_type": "markdown",
      "metadata": {
        "id": "9DxY4mB2pUzo",
        "colab_type": "text"
      },
      "source": [
        "We can observe the amound of Red, Green and Blue in the image."
      ]
    },
    {
      "cell_type": "code",
      "metadata": {
        "id": "CmaCHtFJmmFU",
        "colab_type": "code",
        "colab": {}
      },
      "source": [
        "title = ['Red','Green','Blue']\n",
        "plt.figure(figsize=[20,10])\n",
        "\n",
        "for i in range(3):\n",
        "  channel = img.copy()*0\n",
        "  channel[:,:,i] = img[:,:,i].copy()\n",
        "  plt.subplot(1,3,i+1)\n",
        "  plt.imshow(channel,vmin=0,vmax=255)\n",
        "  plt.title(title[i])\n",
        "  plt.axis('off');"
      ],
      "execution_count": 0,
      "outputs": []
    },
    {
      "cell_type": "markdown",
      "metadata": {
        "id": "roMB4U-h1ZtK",
        "colab_type": "text"
      },
      "source": [
        "First we will reshape the image into a table that has a pixel per row and each column represents the red, green and blue channel."
      ]
    },
    {
      "cell_type": "code",
      "metadata": {
        "id": "D0zHhx0D1ZtK",
        "colab_type": "code",
        "colab": {}
      },
      "source": [
        "img_flat = img.reshape(img.shape[0]*img.shape[1],3)\n",
        "df = pd.DataFrame(img_flat[:,:],columns=['Red','Green','Blue'])\n",
        "df.head()"
      ],
      "execution_count": 0,
      "outputs": []
    },
    {
      "cell_type": "markdown",
      "metadata": {
        "id": "gsv30PlQ1ZtN",
        "colab_type": "text"
      },
      "source": [
        "Since there are 450x650 pixels we get 292,500 rows! "
      ]
    },
    {
      "cell_type": "code",
      "metadata": {
        "id": "hoL4in5h1ZtN",
        "colab_type": "code",
        "colab": {}
      },
      "source": [
        "img_flat.shape"
      ],
      "execution_count": 0,
      "outputs": []
    },
    {
      "cell_type": "markdown",
      "metadata": {
        "id": "v9XWheAi1ZtP",
        "colab_type": "text"
      },
      "source": [
        "Let's run K-means with 4 clusters."
      ]
    },
    {
      "cell_type": "code",
      "metadata": {
        "id": "1exvLnV-1ZtP",
        "colab_type": "code",
        "colab": {}
      },
      "source": [
        "k = 4\n",
        "kmeans = KMeans(n_clusters=k, random_state=42)\n",
        "kmeans.fit(img_flat);"
      ],
      "execution_count": 0,
      "outputs": []
    },
    {
      "cell_type": "markdown",
      "metadata": {
        "id": "TsWY3tPC1ZtR",
        "colab_type": "text"
      },
      "source": [
        "Now let's replace each row with its closest cluster center."
      ]
    },
    {
      "cell_type": "code",
      "metadata": {
        "id": "8uxbR8EI1ZtR",
        "colab_type": "code",
        "colab": {}
      },
      "source": [
        "img_flat2 = img_flat.copy() # makes a shallow copy of the array\n",
        "\n",
        "# loops for each cluster center\n",
        "for i in np.unique(kmeans.labels_):\n",
        "    img_flat2[kmeans.labels_==i,:] = kmeans.cluster_centers_[i]"
      ],
      "execution_count": 0,
      "outputs": []
    },
    {
      "cell_type": "markdown",
      "metadata": {
        "id": "dCCpEeng1ZtT",
        "colab_type": "text"
      },
      "source": [
        "We now need to reshape the the data from 292,500 x 3 to 450 x 650 x 3"
      ]
    },
    {
      "cell_type": "code",
      "metadata": {
        "id": "W3jwqNK11ZtU",
        "colab_type": "code",
        "colab": {}
      },
      "source": [
        "img2 = img_flat2.reshape(img.shape)\n",
        "\n",
        "plt.figure(figsize=[10,10])\n",
        "plt.subplot(1,2,1)\n",
        "plt.imshow(img)\n",
        "plt.axis('off')\n",
        "plt.title('Original');\n",
        "\n",
        "plt.subplot(1,2,2)\n",
        "plt.imshow(img2)\n",
        "plt.axis('off')\n",
        "plt.title(f'k = {k}');"
      ],
      "execution_count": 0,
      "outputs": []
    },
    {
      "cell_type": "markdown",
      "metadata": {
        "id": "5xwC7Ta51ZtW",
        "colab_type": "text"
      },
      "source": [
        "### Problem 2:\n",
        "Write a function that receives the image and number of clusters (k), and returns (1) the image quantized into k colors, and (2) the inertia."
      ]
    },
    {
      "cell_type": "code",
      "metadata": {
        "id": "0C1lU7ZC1ZtX",
        "colab_type": "code",
        "colab": {}
      },
      "source": [
        "def image_cluster(img,k):\n",
        "    ### Write code here\n",
        "    \n",
        "    \n",
        "    return img2, kmeans.inertia_"
      ],
      "execution_count": 0,
      "outputs": []
    },
    {
      "cell_type": "markdown",
      "metadata": {
        "id": "C_Nu5kXT1ZtZ",
        "colab_type": "text"
      },
      "source": [
        "### Problem 3:\n",
        "\n",
        "Call the function for k being 1 through 11, and draw an inertia curve.\n",
        "\n",
        "What is the optimum number of clusters?"
      ]
    },
    {
      "cell_type": "code",
      "metadata": {
        "id": "zE_c_3Wa1ZtZ",
        "colab_type": "code",
        "colab": {}
      },
      "source": [
        "### Write code here\n",
        "\n",
        "\n"
      ],
      "execution_count": 0,
      "outputs": []
    },
    {
      "cell_type": "markdown",
      "metadata": {
        "id": "dMz491RU1Ztb",
        "colab_type": "text"
      },
      "source": [
        "Often times, the elbow method does not work as expected.  There are alternatives such as the [silhouette coefficient](https://scikit-learn.org/stable/modules/generated/sklearn.metrics.silhouette_score.html)."
      ]
    },
    {
      "cell_type": "markdown",
      "metadata": {
        "id": "A8xR3KN-1Ztb",
        "colab_type": "text"
      },
      "source": [
        "**NOTE:** normalizing the features can also affect the way the clusters are created."
      ]
    },
    {
      "cell_type": "markdown",
      "metadata": {
        "id": "9N3YQ5zS1Ztb",
        "colab_type": "text"
      },
      "source": [
        "### Problem 4:\n",
        "Plot in a grid all the images for the different k values."
      ]
    },
    {
      "cell_type": "code",
      "metadata": {
        "id": "3iL8f7Eg1Ztc",
        "colab_type": "code",
        "colab": {}
      },
      "source": [
        "### Write code here\n",
        "\n",
        "\n"
      ],
      "execution_count": 0,
      "outputs": []
    },
    {
      "cell_type": "markdown",
      "metadata": {
        "id": "EezXYGRh1Zte",
        "colab_type": "text"
      },
      "source": [
        "## Solutions to the problems"
      ]
    },
    {
      "cell_type": "markdown",
      "metadata": {
        "id": "jaJh8sb51Zte",
        "colab_type": "text"
      },
      "source": [
        "### Problem 1:"
      ]
    },
    {
      "cell_type": "code",
      "metadata": {
        "id": "CpSPSXh51Zte",
        "colab_type": "code",
        "colab": {}
      },
      "source": [
        "inertia = []\n",
        "list_num_clusters = list(range(1,11))\n",
        "for k in list_num_clusters:\n",
        "    km = KMeans(n_clusters=k)\n",
        "    km.fit(X)\n",
        "    inertia.append(km.inertia_)\n",
        "    \n",
        "plt.plot(list_num_clusters,inertia,'b')\n",
        "plt.scatter(list_num_clusters,inertia,color ='b')\n",
        "plt.xlabel('Number of Clusters')\n",
        "plt.ylabel('Inertia');"
      ],
      "execution_count": 0,
      "outputs": []
    },
    {
      "cell_type": "markdown",
      "metadata": {
        "id": "lwKwSYEq1Zth",
        "colab_type": "text"
      },
      "source": [
        "### Problem 2:"
      ]
    },
    {
      "cell_type": "code",
      "metadata": {
        "id": "mWYlQEM21Zth",
        "colab_type": "code",
        "colab": {}
      },
      "source": [
        "def image_cluster(img,k):\n",
        "    img_flat = img.reshape(img.shape[0]*img.shape[1],3)\n",
        "    kmeans = KMeans(n_clusters=k, random_state=0).fit(img_flat)\n",
        "    img_flat2 = img_flat.copy()\n",
        "\n",
        "    # loops for each cluster center\n",
        "    for i in np.unique(kmeans.labels_):\n",
        "        img_flat2[kmeans.labels_==i,:] = kmeans.cluster_centers_[i]\n",
        "        \n",
        "    img2 = img_flat2.reshape(img.shape)\n",
        "\n",
        "    return img2, kmeans.inertia_"
      ],
      "execution_count": 0,
      "outputs": []
    },
    {
      "cell_type": "markdown",
      "metadata": {
        "id": "wL_R9CGQ1Ztk",
        "colab_type": "text"
      },
      "source": [
        "### Problem 3:"
      ]
    },
    {
      "cell_type": "code",
      "metadata": {
        "id": "wTq_PwBJ1Ztk",
        "colab_type": "code",
        "colab": {}
      },
      "source": [
        "k_vals = list(range(1,12,1))\n",
        "img_list = []\n",
        "inertia = []\n",
        "for k in k_vals:\n",
        "    print(k)\n",
        "    img2, ine = image_cluster(img,k)\n",
        "    img_list.append(img2)\n",
        "    inertia.append(ine)  "
      ],
      "execution_count": 0,
      "outputs": []
    },
    {
      "cell_type": "code",
      "metadata": {
        "id": "oEKkabaj1Zto",
        "colab_type": "code",
        "colab": {}
      },
      "source": [
        "plt.plot(k_vals,inertia, 'b')\n",
        "plt.scatter(k_vals,inertia, color = 'b')\n",
        "plt.xlabel('k')\n",
        "plt.ylabel('Inertia');"
      ],
      "execution_count": 0,
      "outputs": []
    },
    {
      "cell_type": "markdown",
      "metadata": {
        "id": "6rWsARUX1Ztq",
        "colab_type": "text"
      },
      "source": [
        "### Problem 4"
      ]
    },
    {
      "cell_type": "code",
      "metadata": {
        "id": "Gt_hN5711Ztq",
        "colab_type": "code",
        "colab": {}
      },
      "source": [
        "plt.figure(figsize=[20,10])\n",
        "plt.subplot(3,4,1)\n",
        "plt.imshow(img)\n",
        "plt.title('Original')\n",
        "plt.axis('off');\n",
        "for i in range(len(k_vals)):\n",
        "    plt.subplot(3,4,i+2)\n",
        "    plt.imshow(img_list[i])\n",
        "    plt.title('k = '+ str(k_vals[i]))\n",
        "    plt.axis('off');"
      ],
      "execution_count": 0,
      "outputs": []
    }
  ]
}